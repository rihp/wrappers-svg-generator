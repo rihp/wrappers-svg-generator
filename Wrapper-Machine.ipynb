{
 "cells": [
  {
   "cell_type": "code",
   "execution_count": 1,
   "id": "6b9398a4",
   "metadata": {},
   "outputs": [
    {
     "name": "stdout",
     "output_type": "stream",
     "text": [
      "Python 3.10.0\r\n"
     ]
    }
   ],
   "source": [
    "!python3 --version"
   ]
  },
  {
   "cell_type": "code",
   "execution_count": 2,
   "id": "30adae45",
   "metadata": {},
   "outputs": [],
   "source": [
    "import svgwrite"
   ]
  },
  {
   "cell_type": "code",
   "execution_count": 21,
   "id": "f6323e32",
   "metadata": {},
   "outputs": [],
   "source": [
    "dwg = svgwrite.Drawing('new.svg', profile='full', size=('2000', '300'))\n",
    "\n",
    "dwg.add(dwg.line((250, 100), (100, 300), stroke=svgwrite.rgb(10, 122, 1000, '%')))\n",
    "dwg.add(dwg.line((20, 250), (1000, 70), stroke=svgwrite.rgb(10, 122, 1000, '%')))\n",
    "\n",
    "dwg.add(dwg.text('Test', insert=(0, 0.2)))\n",
    "\n",
    "#My implementation to create circles\n",
    "center=[200,200]\n",
    "radius=70\n",
    "\n",
    "dwg.add(svgwrite.shapes.Circle(center=center, r=radius,\n",
    "                       stroke=svgwrite.rgb(100, 10, 0, '%'), fill = \"rgb(255,0,255)\",\n",
    "                       fill_opacity=100)\n",
    "       )\n",
    "dwg.save()\n"
   ]
  },
  {
   "cell_type": "code",
   "execution_count": null,
   "id": "4f7e75bb",
   "metadata": {},
   "outputs": [],
   "source": []
  },
  {
   "cell_type": "code",
   "execution_count": null,
   "id": "3a285352",
   "metadata": {},
   "outputs": [],
   "source": [
    "svgwrite."
   ]
  }
 ],
 "metadata": {
  "kernelspec": {
   "display_name": "Python 3 (ipykernel)",
   "language": "python",
   "name": "python3"
  },
  "language_info": {
   "codemirror_mode": {
    "name": "ipython",
    "version": 3
   },
   "file_extension": ".py",
   "mimetype": "text/x-python",
   "name": "python",
   "nbconvert_exporter": "python",
   "pygments_lexer": "ipython3",
   "version": "3.10.0"
  }
 },
 "nbformat": 4,
 "nbformat_minor": 5
}
